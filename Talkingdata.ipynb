{
  "nbformat": 4,
  "nbformat_minor": 0,
  "metadata": {
    "colab": {
      "name": "Talkingdata.ipynb",
      "provenance": [],
      "collapsed_sections": [],
      "include_colab_link": true
    },
    "kernelspec": {
      "display_name": "Python 3",
      "name": "python3"
    },
    "language_info": {
      "name": "python"
    }
  },
  "cells": [
    {
      "cell_type": "markdown",
      "metadata": {
        "id": "view-in-github",
        "colab_type": "text"
      },
      "source": [
        "<a href=\"https://colab.research.google.com/github/ShivamSinghal1/Talkingdata-Dataset/blob/main/Talkingdata.ipynb\" target=\"_parent\"><img src=\"https://colab.research.google.com/assets/colab-badge.svg\" alt=\"Open In Colab\"/></a>"
      ]
    },
    {
      "cell_type": "code",
      "metadata": {
        "colab": {
          "base_uri": "https://localhost:8080/"
        },
        "id": "KXUHYq_9BSbu",
        "outputId": "1f33d803-24a6-4ea7-9859-d340bc64385f"
      },
      "source": [
        "from google.colab import drive\n",
        "drive.mount('/content/drive')"
      ],
      "execution_count": null,
      "outputs": [
        {
          "output_type": "stream",
          "text": [
            "Mounted at /content/drive\n"
          ],
          "name": "stdout"
        }
      ]
    },
    {
      "cell_type": "code",
      "metadata": {
        "id": "dxsFjTcluzvt"
      },
      "source": [
        "import pandas as pd\n",
        "import time\n",
        "import numpy as np\n",
        "from sklearn.model_selection import train_test_split\n",
        "import xgboost as xgb\n",
        "import gc"
      ],
      "execution_count": null,
      "outputs": []
    },
    {
      "cell_type": "code",
      "metadata": {
        "id": "dbsACe0Kwkui"
      },
      "source": [
        "traincolumns = ['ip','app', 'device', 'os', 'channel', 'click_time', 'is_attributed']\n",
        "dtypes = {\n",
        "        'ip'            : 'uint32',\n",
        "        'app'           : 'uint16',\n",
        "        'device'        : 'uint16',\n",
        "        'os'            : 'uint16',\n",
        "        'channel'       : 'uint16',\n",
        "        'is_attributed' : 'uint8'\n",
        "        }\n",
        "path = '/content/drive/MyDrive/Dataset/train_sample.csv'\n",
        "df = pd.read_csv(path, usecols = traincolumns, dtype=dtypes)"
      ],
      "execution_count": null,
      "outputs": []
    },
    {
      "cell_type": "code",
      "metadata": {
        "colab": {
          "base_uri": "https://localhost:8080/",
          "height": 204
        },
        "id": "RW-VCDUtwn0H",
        "outputId": "73bf6c2a-bd78-45a4-e95b-b296c211744c"
      },
      "source": [
        "df.head()"
      ],
      "execution_count": null,
      "outputs": [
        {
          "output_type": "execute_result",
          "data": {
            "text/html": [
              "<div>\n",
              "<style scoped>\n",
              "    .dataframe tbody tr th:only-of-type {\n",
              "        vertical-align: middle;\n",
              "    }\n",
              "\n",
              "    .dataframe tbody tr th {\n",
              "        vertical-align: top;\n",
              "    }\n",
              "\n",
              "    .dataframe thead th {\n",
              "        text-align: right;\n",
              "    }\n",
              "</style>\n",
              "<table border=\"1\" class=\"dataframe\">\n",
              "  <thead>\n",
              "    <tr style=\"text-align: right;\">\n",
              "      <th></th>\n",
              "      <th>ip</th>\n",
              "      <th>app</th>\n",
              "      <th>device</th>\n",
              "      <th>os</th>\n",
              "      <th>channel</th>\n",
              "      <th>click_time</th>\n",
              "      <th>is_attributed</th>\n",
              "    </tr>\n",
              "  </thead>\n",
              "  <tbody>\n",
              "    <tr>\n",
              "      <th>0</th>\n",
              "      <td>87540</td>\n",
              "      <td>12</td>\n",
              "      <td>1</td>\n",
              "      <td>13</td>\n",
              "      <td>497</td>\n",
              "      <td>2017-11-07 09:30:38</td>\n",
              "      <td>0</td>\n",
              "    </tr>\n",
              "    <tr>\n",
              "      <th>1</th>\n",
              "      <td>105560</td>\n",
              "      <td>25</td>\n",
              "      <td>1</td>\n",
              "      <td>17</td>\n",
              "      <td>259</td>\n",
              "      <td>2017-11-07 13:40:27</td>\n",
              "      <td>0</td>\n",
              "    </tr>\n",
              "    <tr>\n",
              "      <th>2</th>\n",
              "      <td>101424</td>\n",
              "      <td>12</td>\n",
              "      <td>1</td>\n",
              "      <td>19</td>\n",
              "      <td>212</td>\n",
              "      <td>2017-11-07 18:05:24</td>\n",
              "      <td>0</td>\n",
              "    </tr>\n",
              "    <tr>\n",
              "      <th>3</th>\n",
              "      <td>94584</td>\n",
              "      <td>13</td>\n",
              "      <td>1</td>\n",
              "      <td>13</td>\n",
              "      <td>477</td>\n",
              "      <td>2017-11-07 04:58:08</td>\n",
              "      <td>0</td>\n",
              "    </tr>\n",
              "    <tr>\n",
              "      <th>4</th>\n",
              "      <td>68413</td>\n",
              "      <td>12</td>\n",
              "      <td>1</td>\n",
              "      <td>1</td>\n",
              "      <td>178</td>\n",
              "      <td>2017-11-09 09:00:09</td>\n",
              "      <td>0</td>\n",
              "    </tr>\n",
              "  </tbody>\n",
              "</table>\n",
              "</div>"
            ],
            "text/plain": [
              "       ip  app  device  os  channel           click_time  is_attributed\n",
              "0   87540   12       1  13      497  2017-11-07 09:30:38              0\n",
              "1  105560   25       1  17      259  2017-11-07 13:40:27              0\n",
              "2  101424   12       1  19      212  2017-11-07 18:05:24              0\n",
              "3   94584   13       1  13      477  2017-11-07 04:58:08              0\n",
              "4   68413   12       1   1      178  2017-11-09 09:00:09              0"
            ]
          },
          "metadata": {
            "tags": []
          },
          "execution_count": 36
        }
      ]
    },
    {
      "cell_type": "code",
      "metadata": {
        "colab": {
          "background_save": true,
          "base_uri": "https://localhost:8080/",
          "height": 297
        },
        "id": "Z6ID0iSbCblz",
        "outputId": "19419be2-5c21-47e3-cbb8-b41e8f0bf7c6"
      },
      "source": [
        "df.describe()"
      ],
      "execution_count": null,
      "outputs": [
        {
          "output_type": "execute_result",
          "data": {
            "text/html": [
              "<div>\n",
              "<style scoped>\n",
              "    .dataframe tbody tr th:only-of-type {\n",
              "        vertical-align: middle;\n",
              "    }\n",
              "\n",
              "    .dataframe tbody tr th {\n",
              "        vertical-align: top;\n",
              "    }\n",
              "\n",
              "    .dataframe thead th {\n",
              "        text-align: right;\n",
              "    }\n",
              "</style>\n",
              "<table border=\"1\" class=\"dataframe\">\n",
              "  <thead>\n",
              "    <tr style=\"text-align: right;\">\n",
              "      <th></th>\n",
              "      <th>ip</th>\n",
              "      <th>app</th>\n",
              "      <th>device</th>\n",
              "      <th>os</th>\n",
              "      <th>channel</th>\n",
              "      <th>is_attributed</th>\n",
              "    </tr>\n",
              "  </thead>\n",
              "  <tbody>\n",
              "    <tr>\n",
              "      <th>count</th>\n",
              "      <td>100000.000000</td>\n",
              "      <td>100000.00000</td>\n",
              "      <td>100000.000000</td>\n",
              "      <td>100000.000000</td>\n",
              "      <td>100000.000000</td>\n",
              "      <td>100000.000000</td>\n",
              "    </tr>\n",
              "    <tr>\n",
              "      <th>mean</th>\n",
              "      <td>91255.879670</td>\n",
              "      <td>12.04788</td>\n",
              "      <td>21.771250</td>\n",
              "      <td>22.818280</td>\n",
              "      <td>268.832460</td>\n",
              "      <td>0.002270</td>\n",
              "    </tr>\n",
              "    <tr>\n",
              "      <th>std</th>\n",
              "      <td>69835.553661</td>\n",
              "      <td>14.94150</td>\n",
              "      <td>259.667767</td>\n",
              "      <td>55.943136</td>\n",
              "      <td>129.724248</td>\n",
              "      <td>0.047591</td>\n",
              "    </tr>\n",
              "    <tr>\n",
              "      <th>min</th>\n",
              "      <td>9.000000</td>\n",
              "      <td>1.00000</td>\n",
              "      <td>0.000000</td>\n",
              "      <td>0.000000</td>\n",
              "      <td>3.000000</td>\n",
              "      <td>0.000000</td>\n",
              "    </tr>\n",
              "    <tr>\n",
              "      <th>25%</th>\n",
              "      <td>40552.000000</td>\n",
              "      <td>3.00000</td>\n",
              "      <td>1.000000</td>\n",
              "      <td>13.000000</td>\n",
              "      <td>145.000000</td>\n",
              "      <td>0.000000</td>\n",
              "    </tr>\n",
              "    <tr>\n",
              "      <th>50%</th>\n",
              "      <td>79827.000000</td>\n",
              "      <td>12.00000</td>\n",
              "      <td>1.000000</td>\n",
              "      <td>18.000000</td>\n",
              "      <td>258.000000</td>\n",
              "      <td>0.000000</td>\n",
              "    </tr>\n",
              "    <tr>\n",
              "      <th>75%</th>\n",
              "      <td>118252.000000</td>\n",
              "      <td>15.00000</td>\n",
              "      <td>1.000000</td>\n",
              "      <td>19.000000</td>\n",
              "      <td>379.000000</td>\n",
              "      <td>0.000000</td>\n",
              "    </tr>\n",
              "    <tr>\n",
              "      <th>max</th>\n",
              "      <td>364757.000000</td>\n",
              "      <td>551.00000</td>\n",
              "      <td>3867.000000</td>\n",
              "      <td>866.000000</td>\n",
              "      <td>498.000000</td>\n",
              "      <td>1.000000</td>\n",
              "    </tr>\n",
              "  </tbody>\n",
              "</table>\n",
              "</div>"
            ],
            "text/plain": [
              "                  ip           app  ...        channel  is_attributed\n",
              "count  100000.000000  100000.00000  ...  100000.000000  100000.000000\n",
              "mean    91255.879670      12.04788  ...     268.832460       0.002270\n",
              "std     69835.553661      14.94150  ...     129.724248       0.047591\n",
              "min         9.000000       1.00000  ...       3.000000       0.000000\n",
              "25%     40552.000000       3.00000  ...     145.000000       0.000000\n",
              "50%     79827.000000      12.00000  ...     258.000000       0.000000\n",
              "75%    118252.000000      15.00000  ...     379.000000       0.000000\n",
              "max    364757.000000     551.00000  ...     498.000000       1.000000\n",
              "\n",
              "[8 rows x 6 columns]"
            ]
          },
          "metadata": {
            "tags": []
          },
          "execution_count": 0
        }
      ]
    },
    {
      "cell_type": "code",
      "metadata": {
        "id": "huZ0m0J_CnVW"
      },
      "source": [
        "# Checking for null values if any \n",
        "df.isnull().values.any()"
      ],
      "execution_count": null,
      "outputs": []
    },
    {
      "cell_type": "markdown",
      "metadata": {
        "id": "sFfQwuClCNdL"
      },
      "source": [
        "### Data Preparation \n",
        "\n",
        "Make some new features with click_time column \n"
      ]
    },
    {
      "cell_type": "code",
      "metadata": {
        "colab": {
          "base_uri": "https://localhost:8080/",
          "height": 204
        },
        "id": "a84EqjSnwomM",
        "outputId": "457848f3-de40-48b2-eb4a-d22658ebad87"
      },
      "source": [
        "df[\"datetime\"] = pd.to_datetime(df['click_time'])\n",
        "df['dow']      = df['datetime'].dt.dayofweek.astype('uint8')\n",
        "df['hour'] \t   = df['datetime'].dt.hour.astype('uint8')\n",
        "df['minute']   = df['datetime'].dt.minute.astype('uint8')\n",
        "df['second']   = df['datetime'].dt.second.astype('uint8')\n",
        "\n",
        "df.head()"
      ],
      "execution_count": null,
      "outputs": [
        {
          "output_type": "execute_result",
          "data": {
            "text/html": [
              "<div>\n",
              "<style scoped>\n",
              "    .dataframe tbody tr th:only-of-type {\n",
              "        vertical-align: middle;\n",
              "    }\n",
              "\n",
              "    .dataframe tbody tr th {\n",
              "        vertical-align: top;\n",
              "    }\n",
              "\n",
              "    .dataframe thead th {\n",
              "        text-align: right;\n",
              "    }\n",
              "</style>\n",
              "<table border=\"1\" class=\"dataframe\">\n",
              "  <thead>\n",
              "    <tr style=\"text-align: right;\">\n",
              "      <th></th>\n",
              "      <th>ip</th>\n",
              "      <th>app</th>\n",
              "      <th>device</th>\n",
              "      <th>os</th>\n",
              "      <th>channel</th>\n",
              "      <th>click_time</th>\n",
              "      <th>is_attributed</th>\n",
              "      <th>datetime</th>\n",
              "      <th>dow</th>\n",
              "      <th>hour</th>\n",
              "      <th>minute</th>\n",
              "      <th>second</th>\n",
              "    </tr>\n",
              "  </thead>\n",
              "  <tbody>\n",
              "    <tr>\n",
              "      <th>0</th>\n",
              "      <td>87540</td>\n",
              "      <td>12</td>\n",
              "      <td>1</td>\n",
              "      <td>13</td>\n",
              "      <td>497</td>\n",
              "      <td>2017-11-07 09:30:38</td>\n",
              "      <td>0</td>\n",
              "      <td>2017-11-07 09:30:38</td>\n",
              "      <td>1</td>\n",
              "      <td>9</td>\n",
              "      <td>30</td>\n",
              "      <td>38</td>\n",
              "    </tr>\n",
              "    <tr>\n",
              "      <th>1</th>\n",
              "      <td>105560</td>\n",
              "      <td>25</td>\n",
              "      <td>1</td>\n",
              "      <td>17</td>\n",
              "      <td>259</td>\n",
              "      <td>2017-11-07 13:40:27</td>\n",
              "      <td>0</td>\n",
              "      <td>2017-11-07 13:40:27</td>\n",
              "      <td>1</td>\n",
              "      <td>13</td>\n",
              "      <td>40</td>\n",
              "      <td>27</td>\n",
              "    </tr>\n",
              "    <tr>\n",
              "      <th>2</th>\n",
              "      <td>101424</td>\n",
              "      <td>12</td>\n",
              "      <td>1</td>\n",
              "      <td>19</td>\n",
              "      <td>212</td>\n",
              "      <td>2017-11-07 18:05:24</td>\n",
              "      <td>0</td>\n",
              "      <td>2017-11-07 18:05:24</td>\n",
              "      <td>1</td>\n",
              "      <td>18</td>\n",
              "      <td>5</td>\n",
              "      <td>24</td>\n",
              "    </tr>\n",
              "    <tr>\n",
              "      <th>3</th>\n",
              "      <td>94584</td>\n",
              "      <td>13</td>\n",
              "      <td>1</td>\n",
              "      <td>13</td>\n",
              "      <td>477</td>\n",
              "      <td>2017-11-07 04:58:08</td>\n",
              "      <td>0</td>\n",
              "      <td>2017-11-07 04:58:08</td>\n",
              "      <td>1</td>\n",
              "      <td>4</td>\n",
              "      <td>58</td>\n",
              "      <td>8</td>\n",
              "    </tr>\n",
              "    <tr>\n",
              "      <th>4</th>\n",
              "      <td>68413</td>\n",
              "      <td>12</td>\n",
              "      <td>1</td>\n",
              "      <td>1</td>\n",
              "      <td>178</td>\n",
              "      <td>2017-11-09 09:00:09</td>\n",
              "      <td>0</td>\n",
              "      <td>2017-11-09 09:00:09</td>\n",
              "      <td>3</td>\n",
              "      <td>9</td>\n",
              "      <td>0</td>\n",
              "      <td>9</td>\n",
              "    </tr>\n",
              "  </tbody>\n",
              "</table>\n",
              "</div>"
            ],
            "text/plain": [
              "       ip  app  device  os  ...  dow hour  minute second\n",
              "0   87540   12       1  13  ...    1    9      30     38\n",
              "1  105560   25       1  17  ...    1   13      40     27\n",
              "2  101424   12       1  19  ...    1   18       5     24\n",
              "3   94584   13       1  13  ...    1    4      58      8\n",
              "4   68413   12       1   1  ...    3    9       0      9\n",
              "\n",
              "[5 rows x 12 columns]"
            ]
          },
          "metadata": {
            "tags": []
          },
          "execution_count": 7
        }
      ]
    },
    {
      "cell_type": "code",
      "metadata": {
        "colab": {
          "base_uri": "https://localhost:8080/"
        },
        "id": "1YeZvc_4DW37",
        "outputId": "2b1131f7-74bc-4879-bb04-e0e1ffa5c9a7"
      },
      "source": [
        "# We will drop click_time and datetime\n",
        "df = df.drop(['click_time','datetime'],axis=1)\n",
        "gc.collect()"
      ],
      "execution_count": null,
      "outputs": [
        {
          "output_type": "execute_result",
          "data": {
            "text/plain": [
              "75"
            ]
          },
          "metadata": {
            "tags": []
          },
          "execution_count": 8
        }
      ]
    },
    {
      "cell_type": "code",
      "metadata": {
        "colab": {
          "base_uri": "https://localhost:8080/"
        },
        "id": "CuT5myYDyMxJ",
        "outputId": "35b60530-c876-41e4-c2fc-1887ddb17738"
      },
      "source": [
        "y = df['is_attributed']\n",
        "X = df.drop(['is_attributed'], axis=1)\n",
        "print(X.head()) \n",
        "print(y.head())"
      ],
      "execution_count": null,
      "outputs": [
        {
          "output_type": "stream",
          "text": [
            "       ip  app  device  os  channel  dow  hour  minute  second\n",
            "0   87540   12       1  13      497    1     9      30      38\n",
            "1  105560   25       1  17      259    1    13      40      27\n",
            "2  101424   12       1  19      212    1    18       5      24\n",
            "3   94584   13       1  13      477    1     4      58       8\n",
            "4   68413   12       1   1      178    3     9       0       9\n",
            "0    0\n",
            "1    0\n",
            "2    0\n",
            "3    0\n",
            "4    0\n",
            "Name: is_attributed, dtype: uint8\n"
          ],
          "name": "stdout"
        }
      ]
    },
    {
      "cell_type": "code",
      "metadata": {
        "colab": {
          "base_uri": "https://localhost:8080/"
        },
        "id": "tLUR7K4P14tE",
        "outputId": "3e5258f4-b880-4c37-ede2-9d51f7b17224"
      },
      "source": [
        "X = np.array(X)\n",
        "y = np.array(y)\n",
        "\n",
        "X_train, X_test, y_train, y_test = train_test_split(X, y,\n",
        "                                                    shuffle=True, stratify=y,\n",
        "                                                    test_size=0.2, random_state=2)\n",
        "\n",
        "print(X_train.shape, X_test.shape ,  y_train.shape, y_test.shape)\n",
        "\n",
        "y_train.mean()*100 , y_test.mean()*100"
      ],
      "execution_count": null,
      "outputs": [
        {
          "output_type": "stream",
          "text": [
            "(80000, 9) (20000, 9) (80000,) (20000,)\n"
          ],
          "name": "stdout"
        },
        {
          "output_type": "execute_result",
          "data": {
            "text/plain": [
              "(0.2275, 0.22499999999999998)"
            ]
          },
          "metadata": {
            "tags": []
          },
          "execution_count": 10
        }
      ]
    },
    {
      "cell_type": "code",
      "metadata": {
        "id": "u7fB6SZCRy8A"
      },
      "source": [
        "# Plot confusion matrix \n",
        "\n",
        "import seaborn as sns\n",
        "import matplotlib.pyplot as plt\n",
        "from sklearn.metrics import confusion_matrix\n",
        "\n",
        "def create_confmat(true_labels, predicted_labels, columns, colour = 'Greens', size = (5,5)):\n",
        "    sns.set(font_scale=1.5)\n",
        "    cm = confusion_matrix(true_labels, predicted_labels) \n",
        "    cm_df = pd.DataFrame(cm,\n",
        "    index = [col for col in columns], \n",
        "    columns = [col for col in columns])\n",
        "    plt.figure(figsize=(5,5))\n",
        "    sns.heatmap(cm_df, annot = True, cmap = colour, fmt='g', linewidths=.2)\n",
        "    plt.title('Confusion Matrix', fontsize = 12)\n",
        "    plt.ylabel('True label', fontsize = 12)\n",
        "    plt.xlabel('Predicted label', fontsize = 12)\n",
        "    plt.tick_params(axis='both', labelsize=12)\n",
        "    plt.show()"
      ],
      "execution_count": null,
      "outputs": []
    },
    {
      "cell_type": "code",
      "metadata": {
        "id": "48ohPzZMR9JI"
      },
      "source": [
        "from sklearn.metrics import classification_report\n",
        "from sklearn.metrics import roc_auc_score"
      ],
      "execution_count": null,
      "outputs": []
    },
    {
      "cell_type": "markdown",
      "metadata": {
        "id": "mqyAehpYP4b1"
      },
      "source": [
        "## XGBOOST"
      ]
    },
    {
      "cell_type": "code",
      "metadata": {
        "id": "ESxoXWdyeu7q"
      },
      "source": [
        "params = {'eta': 0.1, # learning rate\n",
        "          'objective': 'binary:logistic', \n",
        "          'eval_metric': 'auc', \n",
        "}"
      ],
      "execution_count": null,
      "outputs": []
    },
    {
      "cell_type": "code",
      "metadata": {
        "colab": {
          "base_uri": "https://localhost:8080/"
        },
        "id": "9VuOEfZ5FQ-o",
        "outputId": "91d774f8-dbd7-4ae6-bce2-b00f2b8d1e1f"
      },
      "source": [
        "x_train, x_valid, Y_train, Y_valid = train_test_split(X_train, y_train,\n",
        "                                                    shuffle=True, stratify=y_train,\n",
        "                                                    test_size=0.25, random_state=2)\n",
        "dtrain = xgb.DMatrix(x_train, Y_train)\n",
        "dvalid = xgb.DMatrix(x_valid, Y_valid)\n",
        "\n",
        "watchlist = [(dtrain, 'train'), (dvalid, 'valid')]\n",
        "model = xgb.train(params, dtrain, 1000, watchlist, maximize=True, early_stopping_rounds=50, verbose_eval=10)"
      ],
      "execution_count": null,
      "outputs": [
        {
          "output_type": "stream",
          "text": [
            "[0]\ttrain-auc:0.820479\tvalid-auc:0.824341\n",
            "Multiple eval metrics have been passed: 'valid-auc' will be used for early stopping.\n",
            "\n",
            "Will train until valid-auc hasn't improved in 50 rounds.\n",
            "[10]\ttrain-auc:0.86618\tvalid-auc:0.858746\n",
            "[20]\ttrain-auc:0.925478\tvalid-auc:0.88582\n",
            "[30]\ttrain-auc:0.927089\tvalid-auc:0.885661\n",
            "[40]\ttrain-auc:0.966933\tvalid-auc:0.91689\n",
            "[50]\ttrain-auc:0.966506\tvalid-auc:0.919104\n",
            "[60]\ttrain-auc:0.990883\tvalid-auc:0.923884\n",
            "[70]\ttrain-auc:0.995824\tvalid-auc:0.904415\n",
            "[80]\ttrain-auc:0.997093\tvalid-auc:0.907906\n",
            "[90]\ttrain-auc:0.997956\tvalid-auc:0.910362\n",
            "[100]\ttrain-auc:0.99851\tvalid-auc:0.920127\n",
            "Stopping. Best iteration:\n",
            "[57]\ttrain-auc:0.981001\tvalid-auc:0.941755\n",
            "\n"
          ],
          "name": "stdout"
        }
      ]
    },
    {
      "cell_type": "code",
      "metadata": {
        "id": "0XBXAZ5-FRVP"
      },
      "source": [
        "# Model.predict\n",
        "dtest = xgb.DMatrix(X_test)\n",
        "y_pred = model.predict(dtest , output_margin=True)"
      ],
      "execution_count": null,
      "outputs": []
    },
    {
      "cell_type": "code",
      "metadata": {
        "colab": {
          "base_uri": "https://localhost:8080/",
          "height": 312
        },
        "id": "ypjI6HWSTAli",
        "outputId": "96f6e300-a68a-4067-9180-edf55d57f391"
      },
      "source": [
        "xgb.plot_importance(model)"
      ],
      "execution_count": null,
      "outputs": [
        {
          "output_type": "execute_result",
          "data": {
            "text/plain": [
              "<matplotlib.axes._subplots.AxesSubplot at 0x7fb909b29750>"
            ]
          },
          "metadata": {
            "tags": []
          },
          "execution_count": 16
        },
        {
          "output_type": "display_data",
          "data": {
            "image/png": "[encoded data removed]",
            "text/plain": [
              "<Figure size 432x288 with 1 Axes>"
            ]
          },
          "metadata": {
            "tags": []
          }
        }
      ]
    },
    {
      "cell_type": "code",
      "metadata": {
        "id": "TpXhmhtplK8t"
      },
      "source": [
        "xgb.to_graphviz(model)"
      ],
      "execution_count": null,
      "outputs": []
    },
    {
      "cell_type": "code",
      "metadata": {
        "id": "IuiiN9JFljLs"
      },
      "source": [
        "y_pred[y_pred >= 0] = 1\n",
        "y_pred[y_pred < 0] = 0"
      ],
      "execution_count": null,
      "outputs": []
    },
    {
      "cell_type": "code",
      "metadata": {
        "colab": {
          "base_uri": "https://localhost:8080/"
        },
        "id": "jwG5m92gjzMy",
        "outputId": "2d6b95be-4ab0-4d52-a832-20b9c264c3d0"
      },
      "source": [
        "print(classification_report(y_test, y_pred, digits = 5))"
      ],
      "execution_count": null,
      "outputs": [
        {
          "output_type": "stream",
          "text": [
            "              precision    recall  f1-score   support\n",
            "\n",
            "           0    0.99820   0.99965   0.99892     19955\n",
            "           1    0.56250   0.20000   0.29508        45\n",
            "\n",
            "    accuracy                        0.99785     20000\n",
            "   macro avg    0.78035   0.59982   0.64700     20000\n",
            "weighted avg    0.99722   0.99785   0.99734     20000\n",
            "\n"
          ],
          "name": "stdout"
        }
      ]
    },
    {
      "cell_type": "markdown",
      "metadata": {
        "id": "SmGqRxT0TA7p"
      },
      "source": [
        "## Naive Bayes"
      ]
    },
    {
      "cell_type": "code",
      "metadata": {
        "id": "OOco6kclTDbI"
      },
      "source": [
        "from sklearn.naive_bayes import BernoulliNB "
      ],
      "execution_count": null,
      "outputs": []
    },
    {
      "cell_type": "code",
      "metadata": {
        "id": "RvE86shYTImC"
      },
      "source": [
        "clf = BernoulliNB()"
      ],
      "execution_count": null,
      "outputs": []
    },
    {
      "cell_type": "code",
      "metadata": {
        "id": "bnWRYLKnXJRu"
      },
      "source": [
        "model = clf.fit(X_train, y_train)"
      ],
      "execution_count": null,
      "outputs": []
    },
    {
      "cell_type": "code",
      "metadata": {
        "id": "eXfuh8_nTJ20"
      },
      "source": [
        "y_pred = model.predict(X_test)"
      ],
      "execution_count": null,
      "outputs": []
    },
    {
      "cell_type": "code",
      "metadata": {
        "colab": {
          "base_uri": "https://localhost:8080/"
        },
        "id": "mtumB1IvTOgy",
        "outputId": "9f26854e-7ddc-44bc-8ec5-e431e0432dc4"
      },
      "source": [
        "print(\"Number of mislabeled points out of a total %d points : %d\" % (X_test.shape[0], (y_test != y_pred).sum()))"
      ],
      "execution_count": null,
      "outputs": [
        {
          "output_type": "stream",
          "text": [
            "Number of mislabeled points out of a total 20000 points : 70\n"
          ],
          "name": "stdout"
        }
      ]
    },
    {
      "cell_type": "code",
      "metadata": {
        "colab": {
          "base_uri": "https://localhost:8080/"
        },
        "id": "eGbpJCAqUhD1",
        "outputId": "c02bf790-0593-47bc-931b-47e6b8e651e5"
      },
      "source": [
        "print(classification_report(y_test , y_pred , digits = 5))"
      ],
      "execution_count": null,
      "outputs": [
        {
          "output_type": "stream",
          "text": [
            "              precision    recall  f1-score   support\n",
            "\n",
            "           0    0.99790   0.99860   0.99825     19955\n",
            "           1    0.09677   0.06667   0.07895        45\n",
            "\n",
            "    accuracy                        0.99650     20000\n",
            "   macro avg    0.54734   0.53263   0.53860     20000\n",
            "weighted avg    0.99587   0.99650   0.99618     20000\n",
            "\n"
          ],
          "name": "stdout"
        }
      ]
    },
    {
      "cell_type": "markdown",
      "metadata": {
        "id": "jp4JxTrbP9fk"
      },
      "source": [
        "## SVM"
      ]
    },
    {
      "cell_type": "code",
      "metadata": {
        "id": "sJbmByPLikL0"
      },
      "source": [
        "# #Applying PCA to retain 95% variation and reduce features\n",
        "from sklearn.decomposition import PCA\n",
        "pca = PCA(n_components=.80)\n",
        "pca.fit(X_train)\n",
        "X_train_p = pca.transform(X_train)\n",
        "X_test_p = pca.transform(X_test)\n",
        "pca.explained_variance_ratio_*100\n",
        "from sklearn.preprocessing import StandardScaler\n",
        "scaler = StandardScaler()\n",
        "X_train_p = scaler.fit_transform(X_train_p.astype(np.float32))\n",
        "X_test_p = scaler.transform(X_test_p.astype(np.float32))"
      ],
      "execution_count": null,
      "outputs": []
    },
    {
      "cell_type": "code",
      "metadata": {
        "colab": {
          "base_uri": "https://localhost:8080/"
        },
        "id": "jWVRbK7aIZt_",
        "outputId": "36301014-7f5a-4166-e6c0-d870dd49df08"
      },
      "source": [
        "from sklearn.model_selection import RandomizedSearchCV\n",
        "from sklearn.metrics import classification_report\n",
        "from sklearn.svm import SVC\n",
        "param_grid = {  \n",
        "              'C': [1 ,10], \n",
        "          \n",
        "              'gamma': [0.01 ,.1 ,1], \n",
        "              \n",
        "              'kernel':['linear','rbf'],\n",
        "\n",
        "              'decision_function_shape':['ovr','ovo','dag']\n",
        "              \n",
        "              }\n",
        "\n",
        "          # , 0.001, 0.005, 0.01, 0.1\n",
        "# for sklearn version 0.16 or prior, the class_weight parameter value is 'auto'\n",
        "clf = RandomizedSearchCV(SVC(), param_grid,verbose=10,cv=5 ,n_iter=1000 , scoring='roc_auc')\n",
        "clf = clf.fit(X_train_p, y_train)\n",
        "\n",
        "\n",
        "clf.best_estimator_"
      ],
      "execution_count": null,
      "outputs": [
        {
          "output_type": "stream",
          "text": [
            "/usr/local/lib/python3.7/dist-packages/sklearn/model_selection/_search.py:281: UserWarning: The total space of parameters 36 is smaller than n_iter=1000. Running 36 iterations. For exhaustive searches, use GridSearchCV.\n",
            "  % (grid_size, self.n_iter, grid_size), UserWarning)\n",
            "[Parallel(n_jobs=1)]: Using backend SequentialBackend with 1 concurrent workers.\n"
          ],
          "name": "stderr"
        },
        {
          "output_type": "stream",
          "text": [
            "Fitting 5 folds for each of 36 candidates, totalling 180 fits\n",
            "[CV] kernel=linear, gamma=0.01, decision_function_shape=ovr, C=1 .....\n",
            "[CV]  kernel=linear, gamma=0.01, decision_function_shape=ovr, C=1, score=0.742, total=   0.2s\n",
            "[CV] kernel=linear, gamma=0.01, decision_function_shape=ovr, C=1 .....\n"
          ],
          "name": "stdout"
        },
        {
          "output_type": "stream",
          "text": [
            "[Parallel(n_jobs=1)]: Done   1 out of   1 | elapsed:    0.2s remaining:    0.0s\n"
          ],
          "name": "stderr"
        },
        {
          "output_type": "stream",
          "text": [
            "[CV]  kernel=linear, gamma=0.01, decision_function_shape=ovr, C=1, score=0.386, total=   0.2s\n",
            "[CV] kernel=linear, gamma=0.01, decision_function_shape=ovr, C=1 .....\n"
          ],
          "name": "stdout"
        },
        {
          "output_type": "stream",
          "text": [
            "[Parallel(n_jobs=1)]: Done   2 out of   2 | elapsed:    0.4s remaining:    0.0s\n"
          ],
          "name": "stderr"
        },
        {
          "output_type": "stream",
          "text": [
            "[CV]  kernel=linear, gamma=0.01, decision_function_shape=ovr, C=1, score=0.785, total=   0.2s\n",
            "[CV] kernel=linear, gamma=0.01, decision_function_shape=ovr, C=1 .....\n"
          ],
          "name": "stdout"
        },
        {
          "output_type": "stream",
          "text": [
            "[Parallel(n_jobs=1)]: Done   3 out of   3 | elapsed:    0.7s remaining:    0.0s\n"
          ],
          "name": "stderr"
        },
        {
          "output_type": "stream",
          "text": [
            "[CV]  kernel=linear, gamma=0.01, decision_function_shape=ovr, C=1, score=0.377, total=   0.2s\n",
            "[CV] kernel=linear, gamma=0.01, decision_function_shape=ovr, C=1 .....\n"
          ],
          "name": "stdout"
        },
        {
          "output_type": "stream",
          "text": [
            "[Parallel(n_jobs=1)]: Done   4 out of   4 | elapsed:    0.9s remaining:    0.0s\n"
          ],
          "name": "stderr"
        },
        {
          "output_type": "stream",
          "text": [
            "[CV]  kernel=linear, gamma=0.01, decision_function_shape=ovr, C=1, score=0.725, total=   0.2s\n",
            "[CV] kernel=rbf, gamma=0.01, decision_function_shape=ovr, C=1 ........\n"
          ],
          "name": "stdout"
        },
        {
          "output_type": "stream",
          "text": [
            "[Parallel(n_jobs=1)]: Done   5 out of   5 | elapsed:    1.1s remaining:    0.0s\n"
          ],
          "name": "stderr"
        },
        {
          "output_type": "stream",
          "text": [
            "[CV]  kernel=rbf, gamma=0.01, decision_function_shape=ovr, C=1, score=0.683, total=   0.7s\n",
            "[CV] kernel=rbf, gamma=0.01, decision_function_shape=ovr, C=1 ........\n"
          ],
          "name": "stdout"
        },
        {
          "output_type": "stream",
          "text": [
            "[Parallel(n_jobs=1)]: Done   6 out of   6 | elapsed:    1.8s remaining:    0.0s\n"
          ],
          "name": "stderr"
        },
        {
          "output_type": "stream",
          "text": [
            "[CV]  kernel=rbf, gamma=0.01, decision_function_shape=ovr, C=1, score=0.349, total=   0.7s\n",
            "[CV] kernel=rbf, gamma=0.01, decision_function_shape=ovr, C=1 ........\n"
          ],
          "name": "stdout"
        },
        {
          "output_type": "stream",
          "text": [
            "[Parallel(n_jobs=1)]: Done   7 out of   7 | elapsed:    2.5s remaining:    0.0s\n"
          ],
          "name": "stderr"
        },
        {
          "output_type": "stream",
          "text": [
            "[CV]  kernel=rbf, gamma=0.01, decision_function_shape=ovr, C=1, score=0.581, total=   0.7s\n",
            "[CV] kernel=rbf, gamma=0.01, decision_function_shape=ovr, C=1 ........\n"
          ],
          "name": "stdout"
        },
        {
          "output_type": "stream",
          "text": [
            "[Parallel(n_jobs=1)]: Done   8 out of   8 | elapsed:    3.3s remaining:    0.0s\n"
          ],
          "name": "stderr"
        },
        {
          "output_type": "stream",
          "text": [
            "[CV]  kernel=rbf, gamma=0.01, decision_function_shape=ovr, C=1, score=0.442, total=   0.7s\n",
            "[CV] kernel=rbf, gamma=0.01, decision_function_shape=ovr, C=1 ........\n"
          ],
          "name": "stdout"
        },
        {
          "output_type": "stream",
          "text": [
            "[Parallel(n_jobs=1)]: Done   9 out of   9 | elapsed:    4.0s remaining:    0.0s\n"
          ],
          "name": "stderr"
        },
        {
          "output_type": "stream",
          "text": [
            "[CV]  kernel=rbf, gamma=0.01, decision_function_shape=ovr, C=1, score=0.313, total=   0.7s\n",
            "[CV] kernel=linear, gamma=0.1, decision_function_shape=ovr, C=1 ......\n",
            "[CV]  kernel=linear, gamma=0.1, decision_function_shape=ovr, C=1, score=0.742, total=   0.2s\n",
            "[CV] kernel=linear, gamma=0.1, decision_function_shape=ovr, C=1 ......\n",
            "[CV]  kernel=linear, gamma=0.1, decision_function_shape=ovr, C=1, score=0.386, total=   0.2s\n",
            "[CV] kernel=linear, gamma=0.1, decision_function_shape=ovr, C=1 ......\n",
            "[CV]  kernel=linear, gamma=0.1, decision_function_shape=ovr, C=1, score=0.785, total=   0.2s\n",
            "[CV] kernel=linear, gamma=0.1, decision_function_shape=ovr, C=1 ......\n",
            "[CV]  kernel=linear, gamma=0.1, decision_function_shape=ovr, C=1, score=0.377, total=   0.2s\n",
            "[CV] kernel=linear, gamma=0.1, decision_function_shape=ovr, C=1 ......\n",
            "[CV]  kernel=linear, gamma=0.1, decision_function_shape=ovr, C=1, score=0.725, total=   0.2s\n",
            "[CV] kernel=rbf, gamma=0.1, decision_function_shape=ovr, C=1 .........\n",
            "[CV]  kernel=rbf, gamma=0.1, decision_function_shape=ovr, C=1, score=0.436, total=   0.7s\n",
            "[CV] kernel=rbf, gamma=0.1, decision_function_shape=ovr, C=1 .........\n",
            "[CV]  kernel=rbf, gamma=0.1, decision_function_shape=ovr, C=1, score=0.383, total=   0.8s\n",
            "[CV] kernel=rbf, gamma=0.1, decision_function_shape=ovr, C=1 .........\n",
            "[CV]  kernel=rbf, gamma=0.1, decision_function_shape=ovr, C=1, score=0.286, total=   0.7s\n",
            "[CV] kernel=rbf, gamma=0.1, decision_function_shape=ovr, C=1 .........\n",
            "[CV]  kernel=rbf, gamma=0.1, decision_function_shape=ovr, C=1, score=0.577, total=   0.7s\n",
            "[CV] kernel=rbf, gamma=0.1, decision_function_shape=ovr, C=1 .........\n",
            "[CV]  kernel=rbf, gamma=0.1, decision_function_shape=ovr, C=1, score=0.295, total=   0.7s\n",
            "[CV] kernel=linear, gamma=1, decision_function_shape=ovr, C=1 ........\n",
            "[CV]  kernel=linear, gamma=1, decision_function_shape=ovr, C=1, score=0.742, total=   0.2s\n",
            "[CV] kernel=linear, gamma=1, decision_function_shape=ovr, C=1 ........\n",
            "[CV]  kernel=linear, gamma=1, decision_function_shape=ovr, C=1, score=0.386, total=   0.2s\n",
            "[CV] kernel=linear, gamma=1, decision_function_shape=ovr, C=1 ........\n",
            "[CV]  kernel=linear, gamma=1, decision_function_shape=ovr, C=1, score=0.785, total=   0.2s\n",
            "[CV] kernel=linear, gamma=1, decision_function_shape=ovr, C=1 ........\n",
            "[CV]  kernel=linear, gamma=1, decision_function_shape=ovr, C=1, score=0.377, total=   0.2s\n",
            "[CV] kernel=linear, gamma=1, decision_function_shape=ovr, C=1 ........\n",
            "[CV]  kernel=linear, gamma=1, decision_function_shape=ovr, C=1, score=0.725, total=   0.2s\n",
            "[CV] kernel=rbf, gamma=1, decision_function_shape=ovr, C=1 ...........\n",
            "[CV]  kernel=rbf, gamma=1, decision_function_shape=ovr, C=1, score=0.295, total=   0.8s\n",
            "[CV] kernel=rbf, gamma=1, decision_function_shape=ovr, C=1 ...........\n",
            "[CV]  kernel=rbf, gamma=1, decision_function_shape=ovr, C=1, score=0.602, total=   0.8s\n",
            "[CV] kernel=rbf, gamma=1, decision_function_shape=ovr, C=1 ...........\n",
            "[CV]  kernel=rbf, gamma=1, decision_function_shape=ovr, C=1, score=0.372, total=   0.7s\n",
            "[CV] kernel=rbf, gamma=1, decision_function_shape=ovr, C=1 ...........\n",
            "[CV]  kernel=rbf, gamma=1, decision_function_shape=ovr, C=1, score=0.444, total=   1.0s\n",
            "[CV] kernel=rbf, gamma=1, decision_function_shape=ovr, C=1 ...........\n",
            "[CV]  kernel=rbf, gamma=1, decision_function_shape=ovr, C=1, score=0.578, total=   0.9s\n",
            "[CV] kernel=linear, gamma=0.01, decision_function_shape=ovo, C=1 .....\n",
            "[CV]  kernel=linear, gamma=0.01, decision_function_shape=ovo, C=1, score=0.742, total=   0.2s\n",
            "[CV] kernel=linear, gamma=0.01, decision_function_shape=ovo, C=1 .....\n",
            "[CV]  kernel=linear, gamma=0.01, decision_function_shape=ovo, C=1, score=0.386, total=   0.2s\n",
            "[CV] kernel=linear, gamma=0.01, decision_function_shape=ovo, C=1 .....\n",
            "[CV]  kernel=linear, gamma=0.01, decision_function_shape=ovo, C=1, score=0.785, total=   0.2s\n",
            "[CV] kernel=linear, gamma=0.01, decision_function_shape=ovo, C=1 .....\n",
            "[CV]  kernel=linear, gamma=0.01, decision_function_shape=ovo, C=1, score=0.377, total=   0.2s\n",
            "[CV] kernel=linear, gamma=0.01, decision_function_shape=ovo, C=1 .....\n",
            "[CV]  kernel=linear, gamma=0.01, decision_function_shape=ovo, C=1, score=0.725, total=   0.2s\n",
            "[CV] kernel=rbf, gamma=0.01, decision_function_shape=ovo, C=1 ........\n",
            "[CV]  kernel=rbf, gamma=0.01, decision_function_shape=ovo, C=1, score=0.683, total=   0.7s\n",
            "[CV] kernel=rbf, gamma=0.01, decision_function_shape=ovo, C=1 ........\n",
            "[CV]  kernel=rbf, gamma=0.01, decision_function_shape=ovo, C=1, score=0.349, total=   0.7s\n",
            "[CV] kernel=rbf, gamma=0.01, decision_function_shape=ovo, C=1 ........\n",
            "[CV]  kernel=rbf, gamma=0.01, decision_function_shape=ovo, C=1, score=0.581, total=   0.7s\n",
            "[CV] kernel=rbf, gamma=0.01, decision_function_shape=ovo, C=1 ........\n",
            "[CV]  kernel=rbf, gamma=0.01, decision_function_shape=ovo, C=1, score=0.442, total=   0.7s\n",
            "[CV] kernel=rbf, gamma=0.01, decision_function_shape=ovo, C=1 ........\n",
            "[CV]  kernel=rbf, gamma=0.01, decision_function_shape=ovo, C=1, score=0.313, total=   0.7s\n",
            "[CV] kernel=linear, gamma=0.1, decision_function_shape=ovo, C=1 ......\n",
            "[CV]  kernel=linear, gamma=0.1, decision_function_shape=ovo, C=1, score=0.742, total=   0.2s\n",
            "[CV] kernel=linear, gamma=0.1, decision_function_shape=ovo, C=1 ......\n",
            "[CV]  kernel=linear, gamma=0.1, decision_function_shape=ovo, C=1, score=0.386, total=   0.2s\n",
            "[CV] kernel=linear, gamma=0.1, decision_function_shape=ovo, C=1 ......\n",
            "[CV]  kernel=linear, gamma=0.1, decision_function_shape=ovo, C=1, score=0.785, total=   0.2s\n",
            "[CV] kernel=linear, gamma=0.1, decision_function_shape=ovo, C=1 ......\n",
            "[CV]  kernel=linear, gamma=0.1, decision_function_shape=ovo, C=1, score=0.377, total=   0.2s\n",
            "[CV] kernel=linear, gamma=0.1, decision_function_shape=ovo, C=1 ......\n",
            "[CV]  kernel=linear, gamma=0.1, decision_function_shape=ovo, C=1, score=0.725, total=   0.2s\n",
            "[CV] kernel=rbf, gamma=0.1, decision_function_shape=ovo, C=1 .........\n",
            "[CV]  kernel=rbf, gamma=0.1, decision_function_shape=ovo, C=1, score=0.436, total=   0.7s\n",
            "[CV] kernel=rbf, gamma=0.1, decision_function_shape=ovo, C=1 .........\n",
            "[CV]  kernel=rbf, gamma=0.1, decision_function_shape=ovo, C=1, score=0.383, total=   0.8s\n",
            "[CV] kernel=rbf, gamma=0.1, decision_function_shape=ovo, C=1 .........\n",
            "[CV]  kernel=rbf, gamma=0.1, decision_function_shape=ovo, C=1, score=0.286, total=   0.7s\n",
            "[CV] kernel=rbf, gamma=0.1, decision_function_shape=ovo, C=1 .........\n",
            "[CV]  kernel=rbf, gamma=0.1, decision_function_shape=ovo, C=1, score=0.577, total=   0.7s\n",
            "[CV] kernel=rbf, gamma=0.1, decision_function_shape=ovo, C=1 .........\n",
            "[CV]  kernel=rbf, gamma=0.1, decision_function_shape=ovo, C=1, score=0.295, total=   0.7s\n",
            "[CV] kernel=linear, gamma=1, decision_function_shape=ovo, C=1 ........\n",
            "[CV]  kernel=linear, gamma=1, decision_function_shape=ovo, C=1, score=0.742, total=   0.2s\n",
            "[CV] kernel=linear, gamma=1, decision_function_shape=ovo, C=1 ........\n",
            "[CV]  kernel=linear, gamma=1, decision_function_shape=ovo, C=1, score=0.386, total=   0.2s\n",
            "[CV] kernel=linear, gamma=1, decision_function_shape=ovo, C=1 ........\n",
            "[CV]  kernel=linear, gamma=1, decision_function_shape=ovo, C=1, score=0.785, total=   0.2s\n",
            "[CV] kernel=linear, gamma=1, decision_function_shape=ovo, C=1 ........\n",
            "[CV]  kernel=linear, gamma=1, decision_function_shape=ovo, C=1, score=0.377, total=   0.2s\n",
            "[CV] kernel=linear, gamma=1, decision_function_shape=ovo, C=1 ........\n",
            "[CV]  kernel=linear, gamma=1, decision_function_shape=ovo, C=1, score=0.725, total=   0.2s\n",
            "[CV] kernel=rbf, gamma=1, decision_function_shape=ovo, C=1 ...........\n",
            "[CV]  kernel=rbf, gamma=1, decision_function_shape=ovo, C=1, score=0.295, total=   0.8s\n",
            "[CV] kernel=rbf, gamma=1, decision_function_shape=ovo, C=1 ...........\n",
            "[CV]  kernel=rbf, gamma=1, decision_function_shape=ovo, C=1, score=0.602, total=   0.8s\n",
            "[CV] kernel=rbf, gamma=1, decision_function_shape=ovo, C=1 ...........\n",
            "[CV]  kernel=rbf, gamma=1, decision_function_shape=ovo, C=1, score=0.372, total=   0.7s\n",
            "[CV] kernel=rbf, gamma=1, decision_function_shape=ovo, C=1 ...........\n",
            "[CV]  kernel=rbf, gamma=1, decision_function_shape=ovo, C=1, score=0.444, total=   1.0s\n",
            "[CV] kernel=rbf, gamma=1, decision_function_shape=ovo, C=1 ...........\n",
            "[CV]  kernel=rbf, gamma=1, decision_function_shape=ovo, C=1, score=0.578, total=   0.9s\n",
            "[CV] kernel=linear, gamma=0.01, decision_function_shape=dag, C=1 .....\n",
            "[CV]  kernel=linear, gamma=0.01, decision_function_shape=dag, C=1, score=0.742, total=   0.2s\n",
            "[CV] kernel=linear, gamma=0.01, decision_function_shape=dag, C=1 .....\n",
            "[CV]  kernel=linear, gamma=0.01, decision_function_shape=dag, C=1, score=0.386, total=   0.2s\n",
            "[CV] kernel=linear, gamma=0.01, decision_function_shape=dag, C=1 .....\n",
            "[CV]  kernel=linear, gamma=0.01, decision_function_shape=dag, C=1, score=0.785, total=   0.2s\n",
            "[CV] kernel=linear, gamma=0.01, decision_function_shape=dag, C=1 .....\n",
            "[CV]  kernel=linear, gamma=0.01, decision_function_shape=dag, C=1, score=0.377, total=   0.2s\n",
            "[CV] kernel=linear, gamma=0.01, decision_function_shape=dag, C=1 .....\n",
            "[CV]  kernel=linear, gamma=0.01, decision_function_shape=dag, C=1, score=0.725, total=   0.2s\n",
            "[CV] kernel=rbf, gamma=0.01, decision_function_shape=dag, C=1 ........\n",
            "[CV]  kernel=rbf, gamma=0.01, decision_function_shape=dag, C=1, score=0.683, total=   0.7s\n",
            "[CV] kernel=rbf, gamma=0.01, decision_function_shape=dag, C=1 ........\n",
            "[CV]  kernel=rbf, gamma=0.01, decision_function_shape=dag, C=1, score=0.349, total=   0.7s\n",
            "[CV] kernel=rbf, gamma=0.01, decision_function_shape=dag, C=1 ........\n",
            "[CV]  kernel=rbf, gamma=0.01, decision_function_shape=dag, C=1, score=0.581, total=   0.7s\n",
            "[CV] kernel=rbf, gamma=0.01, decision_function_shape=dag, C=1 ........\n",
            "[CV]  kernel=rbf, gamma=0.01, decision_function_shape=dag, C=1, score=0.442, total=   0.7s\n",
            "[CV] kernel=rbf, gamma=0.01, decision_function_shape=dag, C=1 ........\n",
            "[CV]  kernel=rbf, gamma=0.01, decision_function_shape=dag, C=1, score=0.313, total=   0.7s\n",
            "[CV] kernel=linear, gamma=0.1, decision_function_shape=dag, C=1 ......\n",
            "[CV]  kernel=linear, gamma=0.1, decision_function_shape=dag, C=1, score=0.742, total=   0.2s\n",
            "[CV] kernel=linear, gamma=0.1, decision_function_shape=dag, C=1 ......\n",
            "[CV]  kernel=linear, gamma=0.1, decision_function_shape=dag, C=1, score=0.386, total=   0.2s\n",
            "[CV] kernel=linear, gamma=0.1, decision_function_shape=dag, C=1 ......\n",
            "[CV]  kernel=linear, gamma=0.1, decision_function_shape=dag, C=1, score=0.785, total=   0.2s\n",
            "[CV] kernel=linear, gamma=0.1, decision_function_shape=dag, C=1 ......\n",
            "[CV]  kernel=linear, gamma=0.1, decision_function_shape=dag, C=1, score=0.377, total=   0.2s\n",
            "[CV] kernel=linear, gamma=0.1, decision_function_shape=dag, C=1 ......\n",
            "[CV]  kernel=linear, gamma=0.1, decision_function_shape=dag, C=1, score=0.725, total=   0.2s\n",
            "[CV] kernel=rbf, gamma=0.1, decision_function_shape=dag, C=1 .........\n",
            "[CV]  kernel=rbf, gamma=0.1, decision_function_shape=dag, C=1, score=0.436, total=   0.7s\n",
            "[CV] kernel=rbf, gamma=0.1, decision_function_shape=dag, C=1 .........\n",
            "[CV]  kernel=rbf, gamma=0.1, decision_function_shape=dag, C=1, score=0.383, total=   0.8s\n",
            "[CV] kernel=rbf, gamma=0.1, decision_function_shape=dag, C=1 .........\n",
            "[CV]  kernel=rbf, gamma=0.1, decision_function_shape=dag, C=1, score=0.286, total=   0.7s\n",
            "[CV] kernel=rbf, gamma=0.1, decision_function_shape=dag, C=1 .........\n",
            "[CV]  kernel=rbf, gamma=0.1, decision_function_shape=dag, C=1, score=0.577, total=   0.7s\n",
            "[CV] kernel=rbf, gamma=0.1, decision_function_shape=dag, C=1 .........\n",
            "[CV]  kernel=rbf, gamma=0.1, decision_function_shape=dag, C=1, score=0.295, total=   0.7s\n",
            "[CV] kernel=linear, gamma=1, decision_function_shape=dag, C=1 ........\n",
            "[CV]  kernel=linear, gamma=1, decision_function_shape=dag, C=1, score=0.742, total=   0.2s\n",
            "[CV] kernel=linear, gamma=1, decision_function_shape=dag, C=1 ........\n",
            "[CV]  kernel=linear, gamma=1, decision_function_shape=dag, C=1, score=0.386, total=   0.2s\n",
            "[CV] kernel=linear, gamma=1, decision_function_shape=dag, C=1 ........\n",
            "[CV]  kernel=linear, gamma=1, decision_function_shape=dag, C=1, score=0.785, total=   0.2s\n",
            "[CV] kernel=linear, gamma=1, decision_function_shape=dag, C=1 ........\n",
            "[CV]  kernel=linear, gamma=1, decision_function_shape=dag, C=1, score=0.377, total=   0.2s\n",
            "[CV] kernel=linear, gamma=1, decision_function_shape=dag, C=1 ........\n",
            "[CV]  kernel=linear, gamma=1, decision_function_shape=dag, C=1, score=0.725, total=   0.2s\n",
            "[CV] kernel=rbf, gamma=1, decision_function_shape=dag, C=1 ...........\n",
            "[CV]  kernel=rbf, gamma=1, decision_function_shape=dag, C=1, score=0.295, total=   0.8s\n",
            "[CV] kernel=rbf, gamma=1, decision_function_shape=dag, C=1 ...........\n",
            "[CV]  kernel=rbf, gamma=1, decision_function_shape=dag, C=1, score=0.602, total=   0.8s\n",
            "[CV] kernel=rbf, gamma=1, decision_function_shape=dag, C=1 ...........\n",
            "[CV]  kernel=rbf, gamma=1, decision_function_shape=dag, C=1, score=0.372, total=   0.7s\n",
            "[CV] kernel=rbf, gamma=1, decision_function_shape=dag, C=1 ...........\n",
            "[CV]  kernel=rbf, gamma=1, decision_function_shape=dag, C=1, score=0.444, total=   1.0s\n",
            "[CV] kernel=rbf, gamma=1, decision_function_shape=dag, C=1 ...........\n",
            "[CV]  kernel=rbf, gamma=1, decision_function_shape=dag, C=1, score=0.578, total=   0.9s\n",
            "[CV] kernel=linear, gamma=0.01, decision_function_shape=ovr, C=10 ....\n",
            "[CV]  kernel=linear, gamma=0.01, decision_function_shape=ovr, C=10, score=0.742, total=   0.4s\n",
            "[CV] kernel=linear, gamma=0.01, decision_function_shape=ovr, C=10 ....\n",
            "[CV]  kernel=linear, gamma=0.01, decision_function_shape=ovr, C=10, score=0.386, total=   0.4s\n",
            "[CV] kernel=linear, gamma=0.01, decision_function_shape=ovr, C=10 ....\n",
            "[CV]  kernel=linear, gamma=0.01, decision_function_shape=ovr, C=10, score=0.785, total=   0.4s\n",
            "[CV] kernel=linear, gamma=0.01, decision_function_shape=ovr, C=10 ....\n",
            "[CV]  kernel=linear, gamma=0.01, decision_function_shape=ovr, C=10, score=0.377, total=   0.4s\n",
            "[CV] kernel=linear, gamma=0.01, decision_function_shape=ovr, C=10 ....\n",
            "[CV]  kernel=linear, gamma=0.01, decision_function_shape=ovr, C=10, score=0.725, total=   0.4s\n",
            "[CV] kernel=rbf, gamma=0.01, decision_function_shape=ovr, C=10 .......\n",
            "[CV]  kernel=rbf, gamma=0.01, decision_function_shape=ovr, C=10, score=0.413, total=   0.8s\n",
            "[CV] kernel=rbf, gamma=0.01, decision_function_shape=ovr, C=10 .......\n",
            "[CV]  kernel=rbf, gamma=0.01, decision_function_shape=ovr, C=10, score=0.642, total=   0.8s\n",
            "[CV] kernel=rbf, gamma=0.01, decision_function_shape=ovr, C=10 .......\n",
            "[CV]  kernel=rbf, gamma=0.01, decision_function_shape=ovr, C=10, score=0.672, total=   0.9s\n",
            "[CV] kernel=rbf, gamma=0.01, decision_function_shape=ovr, C=10 .......\n",
            "[CV]  kernel=rbf, gamma=0.01, decision_function_shape=ovr, C=10, score=0.504, total=   0.7s\n",
            "[CV] kernel=rbf, gamma=0.01, decision_function_shape=ovr, C=10 .......\n",
            "[CV]  kernel=rbf, gamma=0.01, decision_function_shape=ovr, C=10, score=0.659, total=   0.8s\n",
            "[CV] kernel=linear, gamma=0.1, decision_function_shape=ovr, C=10 .....\n",
            "[CV]  kernel=linear, gamma=0.1, decision_function_shape=ovr, C=10, score=0.742, total=   0.4s\n",
            "[CV] kernel=linear, gamma=0.1, decision_function_shape=ovr, C=10 .....\n",
            "[CV]  kernel=linear, gamma=0.1, decision_function_shape=ovr, C=10, score=0.386, total=   0.4s\n",
            "[CV] kernel=linear, gamma=0.1, decision_function_shape=ovr, C=10 .....\n",
            "[CV]  kernel=linear, gamma=0.1, decision_function_shape=ovr, C=10, score=0.785, total=   0.4s\n",
            "[CV] kernel=linear, gamma=0.1, decision_function_shape=ovr, C=10 .....\n",
            "[CV]  kernel=linear, gamma=0.1, decision_function_shape=ovr, C=10, score=0.377, total=   0.4s\n",
            "[CV] kernel=linear, gamma=0.1, decision_function_shape=ovr, C=10 .....\n",
            "[CV]  kernel=linear, gamma=0.1, decision_function_shape=ovr, C=10, score=0.725, total=   0.4s\n",
            "[CV] kernel=rbf, gamma=0.1, decision_function_shape=ovr, C=10 ........\n",
            "[CV]  kernel=rbf, gamma=0.1, decision_function_shape=ovr, C=10, score=0.441, total=   1.0s\n",
            "[CV] kernel=rbf, gamma=0.1, decision_function_shape=ovr, C=10 ........\n",
            "[CV]  kernel=rbf, gamma=0.1, decision_function_shape=ovr, C=10, score=0.567, total=   0.8s\n",
            "[CV] kernel=rbf, gamma=0.1, decision_function_shape=ovr, C=10 ........\n",
            "[CV]  kernel=rbf, gamma=0.1, decision_function_shape=ovr, C=10, score=0.714, total=   1.8s\n",
            "[CV] kernel=rbf, gamma=0.1, decision_function_shape=ovr, C=10 ........\n",
            "[CV]  kernel=rbf, gamma=0.1, decision_function_shape=ovr, C=10, score=0.507, total=   1.5s\n",
            "[CV] kernel=rbf, gamma=0.1, decision_function_shape=ovr, C=10 ........\n",
            "[CV]  kernel=rbf, gamma=0.1, decision_function_shape=ovr, C=10, score=0.705, total=   1.2s\n",
            "[CV] kernel=linear, gamma=1, decision_function_shape=ovr, C=10 .......\n",
            "[CV]  kernel=linear, gamma=1, decision_function_shape=ovr, C=10, score=0.742, total=   0.4s\n",
            "[CV] kernel=linear, gamma=1, decision_function_shape=ovr, C=10 .......\n",
            "[CV]  kernel=linear, gamma=1, decision_function_shape=ovr, C=10, score=0.386, total=   0.4s\n",
            "[CV] kernel=linear, gamma=1, decision_function_shape=ovr, C=10 .......\n",
            "[CV]  kernel=linear, gamma=1, decision_function_shape=ovr, C=10, score=0.785, total=   0.4s\n",
            "[CV] kernel=linear, gamma=1, decision_function_shape=ovr, C=10 .......\n",
            "[CV]  kernel=linear, gamma=1, decision_function_shape=ovr, C=10, score=0.377, total=   0.4s\n",
            "[CV] kernel=linear, gamma=1, decision_function_shape=ovr, C=10 .......\n",
            "[CV]  kernel=linear, gamma=1, decision_function_shape=ovr, C=10, score=0.725, total=   0.4s\n",
            "[CV] kernel=rbf, gamma=1, decision_function_shape=ovr, C=10 ..........\n",
            "[CV]  kernel=rbf, gamma=1, decision_function_shape=ovr, C=10, score=0.275, total=   1.6s\n",
            "[CV] kernel=rbf, gamma=1, decision_function_shape=ovr, C=10 ..........\n",
            "[CV]  kernel=rbf, gamma=1, decision_function_shape=ovr, C=10, score=0.435, total=   2.7s\n",
            "[CV] kernel=rbf, gamma=1, decision_function_shape=ovr, C=10 ..........\n",
            "[CV]  kernel=rbf, gamma=1, decision_function_shape=ovr, C=10, score=0.390, total=   1.4s\n",
            "[CV] kernel=rbf, gamma=1, decision_function_shape=ovr, C=10 ..........\n",
            "[CV]  kernel=rbf, gamma=1, decision_function_shape=ovr, C=10, score=0.478, total=   2.7s\n",
            "[CV] kernel=rbf, gamma=1, decision_function_shape=ovr, C=10 ..........\n",
            "[CV]  kernel=rbf, gamma=1, decision_function_shape=ovr, C=10, score=0.493, total=   1.5s\n",
            "[CV] kernel=linear, gamma=0.01, decision_function_shape=ovo, C=10 ....\n",
            "[CV]  kernel=linear, gamma=0.01, decision_function_shape=ovo, C=10, score=0.742, total=   0.4s\n",
            "[CV] kernel=linear, gamma=0.01, decision_function_shape=ovo, C=10 ....\n",
            "[CV]  kernel=linear, gamma=0.01, decision_function_shape=ovo, C=10, score=0.386, total=   0.4s\n",
            "[CV] kernel=linear, gamma=0.01, decision_function_shape=ovo, C=10 ....\n",
            "[CV]  kernel=linear, gamma=0.01, decision_function_shape=ovo, C=10, score=0.785, total=   0.4s\n",
            "[CV] kernel=linear, gamma=0.01, decision_function_shape=ovo, C=10 ....\n",
            "[CV]  kernel=linear, gamma=0.01, decision_function_shape=ovo, C=10, score=0.377, total=   0.4s\n",
            "[CV] kernel=linear, gamma=0.01, decision_function_shape=ovo, C=10 ....\n",
            "[CV]  kernel=linear, gamma=0.01, decision_function_shape=ovo, C=10, score=0.725, total=   0.4s\n",
            "[CV] kernel=rbf, gamma=0.01, decision_function_shape=ovo, C=10 .......\n",
            "[CV]  kernel=rbf, gamma=0.01, decision_function_shape=ovo, C=10, score=0.413, total=   0.8s\n",
            "[CV] kernel=rbf, gamma=0.01, decision_function_shape=ovo, C=10 .......\n",
            "[CV]  kernel=rbf, gamma=0.01, decision_function_shape=ovo, C=10, score=0.642, total=   0.8s\n",
            "[CV] kernel=rbf, gamma=0.01, decision_function_shape=ovo, C=10 .......\n",
            "[CV]  kernel=rbf, gamma=0.01, decision_function_shape=ovo, C=10, score=0.672, total=   0.9s\n",
            "[CV] kernel=rbf, gamma=0.01, decision_function_shape=ovo, C=10 .......\n",
            "[CV]  kernel=rbf, gamma=0.01, decision_function_shape=ovo, C=10, score=0.504, total=   0.7s\n",
            "[CV] kernel=rbf, gamma=0.01, decision_function_shape=ovo, C=10 .......\n",
            "[CV]  kernel=rbf, gamma=0.01, decision_function_shape=ovo, C=10, score=0.659, total=   0.8s\n",
            "[CV] kernel=linear, gamma=0.1, decision_function_shape=ovo, C=10 .....\n",
            "[CV]  kernel=linear, gamma=0.1, decision_function_shape=ovo, C=10, score=0.742, total=   0.4s\n",
            "[CV] kernel=linear, gamma=0.1, decision_function_shape=ovo, C=10 .....\n",
            "[CV]  kernel=linear, gamma=0.1, decision_function_shape=ovo, C=10, score=0.386, total=   0.4s\n",
            "[CV] kernel=linear, gamma=0.1, decision_function_shape=ovo, C=10 .....\n",
            "[CV]  kernel=linear, gamma=0.1, decision_function_shape=ovo, C=10, score=0.785, total=   0.4s\n",
            "[CV] kernel=linear, gamma=0.1, decision_function_shape=ovo, C=10 .....\n",
            "[CV]  kernel=linear, gamma=0.1, decision_function_shape=ovo, C=10, score=0.377, total=   0.4s\n",
            "[CV] kernel=linear, gamma=0.1, decision_function_shape=ovo, C=10 .....\n",
            "[CV]  kernel=linear, gamma=0.1, decision_function_shape=ovo, C=10, score=0.725, total=   0.4s\n",
            "[CV] kernel=rbf, gamma=0.1, decision_function_shape=ovo, C=10 ........\n",
            "[CV]  kernel=rbf, gamma=0.1, decision_function_shape=ovo, C=10, score=0.441, total=   1.0s\n",
            "[CV] kernel=rbf, gamma=0.1, decision_function_shape=ovo, C=10 ........\n",
            "[CV]  kernel=rbf, gamma=0.1, decision_function_shape=ovo, C=10, score=0.567, total=   0.8s\n",
            "[CV] kernel=rbf, gamma=0.1, decision_function_shape=ovo, C=10 ........\n",
            "[CV]  kernel=rbf, gamma=0.1, decision_function_shape=ovo, C=10, score=0.714, total=   1.8s\n",
            "[CV] kernel=rbf, gamma=0.1, decision_function_shape=ovo, C=10 ........\n",
            "[CV]  kernel=rbf, gamma=0.1, decision_function_shape=ovo, C=10, score=0.507, total=   1.5s\n",
            "[CV] kernel=rbf, gamma=0.1, decision_function_shape=ovo, C=10 ........\n",
            "[CV]  kernel=rbf, gamma=0.1, decision_function_shape=ovo, C=10, score=0.705, total=   1.2s\n",
            "[CV] kernel=linear, gamma=1, decision_function_shape=ovo, C=10 .......\n",
            "[CV]  kernel=linear, gamma=1, decision_function_shape=ovo, C=10, score=0.742, total=   0.4s\n",
            "[CV] kernel=linear, gamma=1, decision_function_shape=ovo, C=10 .......\n",
            "[CV]  kernel=linear, gamma=1, decision_function_shape=ovo, C=10, score=0.386, total=   0.4s\n",
            "[CV] kernel=linear, gamma=1, decision_function_shape=ovo, C=10 .......\n",
            "[CV]  kernel=linear, gamma=1, decision_function_shape=ovo, C=10, score=0.785, total=   0.4s\n",
            "[CV] kernel=linear, gamma=1, decision_function_shape=ovo, C=10 .......\n",
            "[CV]  kernel=linear, gamma=1, decision_function_shape=ovo, C=10, score=0.377, total=   0.4s\n",
            "[CV] kernel=linear, gamma=1, decision_function_shape=ovo, C=10 .......\n",
            "[CV]  kernel=linear, gamma=1, decision_function_shape=ovo, C=10, score=0.725, total=   0.4s\n",
            "[CV] kernel=rbf, gamma=1, decision_function_shape=ovo, C=10 ..........\n",
            "[CV]  kernel=rbf, gamma=1, decision_function_shape=ovo, C=10, score=0.275, total=   1.6s\n",
            "[CV] kernel=rbf, gamma=1, decision_function_shape=ovo, C=10 ..........\n",
            "[CV]  kernel=rbf, gamma=1, decision_function_shape=ovo, C=10, score=0.435, total=   2.7s\n",
            "[CV] kernel=rbf, gamma=1, decision_function_shape=ovo, C=10 ..........\n",
            "[CV]  kernel=rbf, gamma=1, decision_function_shape=ovo, C=10, score=0.390, total=   1.4s\n",
            "[CV] kernel=rbf, gamma=1, decision_function_shape=ovo, C=10 ..........\n",
            "[CV]  kernel=rbf, gamma=1, decision_function_shape=ovo, C=10, score=0.478, total=   2.7s\n",
            "[CV] kernel=rbf, gamma=1, decision_function_shape=ovo, C=10 ..........\n",
            "[CV]  kernel=rbf, gamma=1, decision_function_shape=ovo, C=10, score=0.493, total=   1.5s\n",
            "[CV] kernel=linear, gamma=0.01, decision_function_shape=dag, C=10 ....\n",
            "[CV]  kernel=linear, gamma=0.01, decision_function_shape=dag, C=10, score=0.742, total=   0.4s\n",
            "[CV] kernel=linear, gamma=0.01, decision_function_shape=dag, C=10 ....\n",
            "[CV]  kernel=linear, gamma=0.01, decision_function_shape=dag, C=10, score=0.386, total=   0.4s\n",
            "[CV] kernel=linear, gamma=0.01, decision_function_shape=dag, C=10 ....\n",
            "[CV]  kernel=linear, gamma=0.01, decision_function_shape=dag, C=10, score=0.785, total=   0.4s\n",
            "[CV] kernel=linear, gamma=0.01, decision_function_shape=dag, C=10 ....\n",
            "[CV]  kernel=linear, gamma=0.01, decision_function_shape=dag, C=10, score=0.377, total=   0.4s\n",
            "[CV] kernel=linear, gamma=0.01, decision_function_shape=dag, C=10 ....\n",
            "[CV]  kernel=linear, gamma=0.01, decision_function_shape=dag, C=10, score=0.725, total=   0.4s\n",
            "[CV] kernel=rbf, gamma=0.01, decision_function_shape=dag, C=10 .......\n",
            "[CV]  kernel=rbf, gamma=0.01, decision_function_shape=dag, C=10, score=0.413, total=   0.8s\n",
            "[CV] kernel=rbf, gamma=0.01, decision_function_shape=dag, C=10 .......\n",
            "[CV]  kernel=rbf, gamma=0.01, decision_function_shape=dag, C=10, score=0.642, total=   0.8s\n",
            "[CV] kernel=rbf, gamma=0.01, decision_function_shape=dag, C=10 .......\n",
            "[CV]  kernel=rbf, gamma=0.01, decision_function_shape=dag, C=10, score=0.672, total=   0.9s\n",
            "[CV] kernel=rbf, gamma=0.01, decision_function_shape=dag, C=10 .......\n",
            "[CV]  kernel=rbf, gamma=0.01, decision_function_shape=dag, C=10, score=0.504, total=   0.7s\n",
            "[CV] kernel=rbf, gamma=0.01, decision_function_shape=dag, C=10 .......\n",
            "[CV]  kernel=rbf, gamma=0.01, decision_function_shape=dag, C=10, score=0.659, total=   0.8s\n",
            "[CV] kernel=linear, gamma=0.1, decision_function_shape=dag, C=10 .....\n",
            "[CV]  kernel=linear, gamma=0.1, decision_function_shape=dag, C=10, score=0.742, total=   0.4s\n",
            "[CV] kernel=linear, gamma=0.1, decision_function_shape=dag, C=10 .....\n",
            "[CV]  kernel=linear, gamma=0.1, decision_function_shape=dag, C=10, score=0.386, total=   0.4s\n",
            "[CV] kernel=linear, gamma=0.1, decision_function_shape=dag, C=10 .....\n",
            "[CV]  kernel=linear, gamma=0.1, decision_function_shape=dag, C=10, score=0.785, total=   0.4s\n",
            "[CV] kernel=linear, gamma=0.1, decision_function_shape=dag, C=10 .....\n",
            "[CV]  kernel=linear, gamma=0.1, decision_function_shape=dag, C=10, score=0.377, total=   0.4s\n",
            "[CV] kernel=linear, gamma=0.1, decision_function_shape=dag, C=10 .....\n",
            "[CV]  kernel=linear, gamma=0.1, decision_function_shape=dag, C=10, score=0.725, total=   0.4s\n",
            "[CV] kernel=rbf, gamma=0.1, decision_function_shape=dag, C=10 ........\n",
            "[CV]  kernel=rbf, gamma=0.1, decision_function_shape=dag, C=10, score=0.441, total=   1.0s\n",
            "[CV] kernel=rbf, gamma=0.1, decision_function_shape=dag, C=10 ........\n",
            "[CV]  kernel=rbf, gamma=0.1, decision_function_shape=dag, C=10, score=0.567, total=   0.8s\n",
            "[CV] kernel=rbf, gamma=0.1, decision_function_shape=dag, C=10 ........\n",
            "[CV]  kernel=rbf, gamma=0.1, decision_function_shape=dag, C=10, score=0.714, total=   1.8s\n",
            "[CV] kernel=rbf, gamma=0.1, decision_function_shape=dag, C=10 ........\n",
            "[CV]  kernel=rbf, gamma=0.1, decision_function_shape=dag, C=10, score=0.507, total=   1.5s\n",
            "[CV] kernel=rbf, gamma=0.1, decision_function_shape=dag, C=10 ........\n",
            "[CV]  kernel=rbf, gamma=0.1, decision_function_shape=dag, C=10, score=0.705, total=   1.2s\n",
            "[CV] kernel=linear, gamma=1, decision_function_shape=dag, C=10 .......\n",
            "[CV]  kernel=linear, gamma=1, decision_function_shape=dag, C=10, score=0.742, total=   0.4s\n",
            "[CV] kernel=linear, gamma=1, decision_function_shape=dag, C=10 .......\n",
            "[CV]  kernel=linear, gamma=1, decision_function_shape=dag, C=10, score=0.386, total=   0.4s\n",
            "[CV] kernel=linear, gamma=1, decision_function_shape=dag, C=10 .......\n",
            "[CV]  kernel=linear, gamma=1, decision_function_shape=dag, C=10, score=0.785, total=   0.4s\n",
            "[CV] kernel=linear, gamma=1, decision_function_shape=dag, C=10 .......\n",
            "[CV]  kernel=linear, gamma=1, decision_function_shape=dag, C=10, score=0.377, total=   0.4s\n",
            "[CV] kernel=linear, gamma=1, decision_function_shape=dag, C=10 .......\n",
            "[CV]  kernel=linear, gamma=1, decision_function_shape=dag, C=10, score=0.725, total=   0.4s\n",
            "[CV] kernel=rbf, gamma=1, decision_function_shape=dag, C=10 ..........\n",
            "[CV]  kernel=rbf, gamma=1, decision_function_shape=dag, C=10, score=0.275, total=   1.6s\n",
            "[CV] kernel=rbf, gamma=1, decision_function_shape=dag, C=10 ..........\n",
            "[CV]  kernel=rbf, gamma=1, decision_function_shape=dag, C=10, score=0.435, total=   2.7s\n",
            "[CV] kernel=rbf, gamma=1, decision_function_shape=dag, C=10 ..........\n",
            "[CV]  kernel=rbf, gamma=1, decision_function_shape=dag, C=10, score=0.390, total=   1.4s\n",
            "[CV] kernel=rbf, gamma=1, decision_function_shape=dag, C=10 ..........\n",
            "[CV]  kernel=rbf, gamma=1, decision_function_shape=dag, C=10, score=0.478, total=   2.7s\n",
            "[CV] kernel=rbf, gamma=1, decision_function_shape=dag, C=10 ..........\n",
            "[CV]  kernel=rbf, gamma=1, decision_function_shape=dag, C=10, score=0.493, total=   1.5s\n"
          ],
          "name": "stdout"
        },
        {
          "output_type": "stream",
          "text": [
            "[Parallel(n_jobs=1)]: Done 180 out of 180 | elapsed:  2.0min finished\n"
          ],
          "name": "stderr"
        },
        {
          "output_type": "execute_result",
          "data": {
            "text/plain": [
              "SVC(C=1, break_ties=False, cache_size=200, class_weight=None, coef0=0.0,\n",
              "    decision_function_shape='ovr', degree=3, gamma=0.01, kernel='linear',\n",
              "    max_iter=-1, probability=False, random_state=None, shrinking=True,\n",
              "    tol=0.001, verbose=False)"
            ]
          },
          "metadata": {
            "tags": []
          },
          "execution_count": 32
        }
      ]
    },
    {
      "cell_type": "code",
      "metadata": {
        "colab": {
          "background_save": true,
          "base_uri": "https://localhost:8080/"
        },
        "id": "m2m0brVyVFy_",
        "outputId": "f9739c51-a2e6-4857-da56-6f29276b7b63"
      },
      "source": [
        "print(classification_report(y_test ,clf.predict(X_test_p) ,digits=5))"
      ],
      "execution_count": null,
      "outputs": [
        {
          "output_type": "stream",
          "text": [
            "              precision    recall  f1-score   support\n",
            "\n",
            "           0    0.99775   1.00000   0.99887     19955\n",
            "           1    0.00000   0.00000   0.00000        45\n",
            "\n",
            "    accuracy                        0.99775     20000\n",
            "   macro avg    0.49888   0.50000   0.49944     20000\n",
            "weighted avg    0.99551   0.99775   0.99663     20000\n",
            "\n"
          ],
          "name": "stdout"
        },
        {
          "output_type": "stream",
          "text": [
            "/usr/local/lib/python3.7/dist-packages/sklearn/metrics/_classification.py:1272: UndefinedMetricWarning: Precision and F-score are ill-defined and being set to 0.0 in labels with no predicted samples. Use `zero_division` parameter to control this behavior.\n",
            "  _warn_prf(average, modifier, msg_start, len(result))\n"
          ],
          "name": "stderr"
        }
      ]
    },
    {
      "cell_type": "markdown",
      "metadata": {
        "id": "ZiFNpUdhe0xB"
      },
      "source": [
        "## Random Forest Classifier\n"
      ]
    },
    {
      "cell_type": "code",
      "metadata": {
        "colab": {
          "base_uri": "https://localhost:8080/",
          "height": 80
        },
        "id": "PPqumz9QQAlF",
        "outputId": "3e612797-466b-4a46-91be-94580b294576"
      },
      "source": [
        "from sklearn.ensemble import RandomForestClassifier\n",
        "from sklearn.model_selection import GridSearchCV\n",
        "from sklearn.model_selection import StratifiedKFold\n",
        "clf = GridSearchCV(RandomForestClassifier(), {\n",
        "    'n_estimators': [1,5,50]\n",
        "    \n",
        "}, cv=StratifiedKFold(5), return_train_score=False)\n",
        "clf.fit(X_train, y_train)\n",
        "scores = []\n",
        "\n",
        "scores.append({\n",
        "    'best_score': clf.best_score_,\n",
        "    'best_params': clf.best_params_\n",
        "    })\n",
        "    \n",
        "did = pd.DataFrame(scores,columns=['best_score','best_params'])\n",
        "did\n"
      ],
      "execution_count": null,
      "outputs": [
        {
          "output_type": "execute_result",
          "data": {
            "text/html": [
              "<div>\n",
              "<style scoped>\n",
              "    .dataframe tbody tr th:only-of-type {\n",
              "        vertical-align: middle;\n",
              "    }\n",
              "\n",
              "    .dataframe tbody tr th {\n",
              "        vertical-align: top;\n",
              "    }\n",
              "\n",
              "    .dataframe thead th {\n",
              "        text-align: right;\n",
              "    }\n",
              "</style>\n",
              "<table border=\"1\" class=\"dataframe\">\n",
              "  <thead>\n",
              "    <tr style=\"text-align: right;\">\n",
              "      <th></th>\n",
              "      <th>best_score</th>\n",
              "      <th>best_params</th>\n",
              "    </tr>\n",
              "  </thead>\n",
              "  <tbody>\n",
              "    <tr>\n",
              "      <th>0</th>\n",
              "      <td>0.99775</td>\n",
              "      <td>{'n_estimators': 50}</td>\n",
              "    </tr>\n",
              "  </tbody>\n",
              "</table>\n",
              "</div>"
            ],
            "text/plain": [
              "   best_score           best_params\n",
              "0     0.99775  {'n_estimators': 50}"
            ]
          },
          "metadata": {
            "tags": []
          },
          "execution_count": 29
        }
      ]
    },
    {
      "cell_type": "code",
      "metadata": {
        "id": "aAFMJP-fSxse"
      },
      "source": [
        "model = RandomForestClassifier(n_estimators=50)\n",
        "model.fit(X_train, y_train)\n",
        "y_pred = model.predict(X_test)"
      ],
      "execution_count": null,
      "outputs": []
    },
    {
      "cell_type": "code",
      "metadata": {
        "colab": {
          "base_uri": "https://localhost:8080/"
        },
        "id": "pz2VX4KsidhG",
        "outputId": "78b4c15b-9096-4dc9-c9fa-a609f97bdfc8"
      },
      "source": [
        "print(classification_report(y_test ,clf.predict(X_test) ,digits=5))"
      ],
      "execution_count": null,
      "outputs": [
        {
          "output_type": "stream",
          "text": [
            "              precision    recall  f1-score   support\n",
            "\n",
            "           0    0.99820   0.99995   0.99907     19955\n",
            "           1    0.90000   0.20000   0.32727        45\n",
            "\n",
            "    accuracy                        0.99815     20000\n",
            "   macro avg    0.94910   0.59997   0.66317     20000\n",
            "weighted avg    0.99798   0.99815   0.99756     20000\n",
            "\n"
          ],
          "name": "stdout"
        }
      ]
    }
  ]
}